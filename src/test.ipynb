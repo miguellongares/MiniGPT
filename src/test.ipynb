{
 "cells": [
  {
   "cell_type": "code",
   "execution_count": 1,
   "id": "8018d982",
   "metadata": {},
   "outputs": [
    {
     "name": "stderr",
     "output_type": "stream",
     "text": [
      "c:\\Users\\migue\\Documents\\Code_projects\\Python\\MiniGPT\\GPT_env\\Lib\\site-packages\\torch\\_subclasses\\functional_tensor.py:279: UserWarning: Failed to initialize NumPy: No module named 'numpy' (Triggered internally at C:\\actions-runner\\_work\\pytorch\\pytorch\\pytorch\\torch\\csrc\\utils\\tensor_numpy.cpp:81.)\n",
      "  cpu = _conversion_method_template(device=torch.device(\"cpu\"))\n"
     ]
    }
   ],
   "source": [
    "from helpers import load_txt, load_encoder_decoder, create_batches_data\n"
   ]
  },
  {
   "cell_type": "code",
   "execution_count": 5,
   "id": "128f2bc0",
   "metadata": {},
   "outputs": [
    {
     "name": "stdout",
     "output_type": "stream",
     "text": [
      "El ingenio\n"
     ]
    }
   ],
   "source": [
    "text = load_txt('Don_Quijote_esp.txt')\n",
    "print(text[:10])"
   ]
  },
  {
   "cell_type": "code",
   "execution_count": null,
   "id": "5f302d02",
   "metadata": {},
   "outputs": [
    {
     "data": {
      "text/plain": [
       "2110726"
      ]
     },
     "execution_count": 6,
     "metadata": {},
     "output_type": "execute_result"
    }
   ],
   "source": [
    "encoder ,decoder = load_encoder_decoder(text)\n",
    "len(encoder(text))\n"
   ]
  },
  {
   "cell_type": "code",
   "execution_count": 7,
   "id": "e58af29f",
   "metadata": {},
   "outputs": [
    {
     "data": {
      "text/plain": [
       "(tensor([[60,  1, 62, 66, 51,  0, 64, 51,  1, 57],\n",
       "         [ 1, 61, 63, 60, 67, 51, 84, 50, 60,  7],\n",
       "         [60, 64,  0, 65, 47, 57, 51, 64,  1, 59]]),\n",
       " tensor([[ 1, 62, 66, 51,  0, 64, 51,  1, 57, 51],\n",
       "         [61, 63, 60, 67, 51, 84, 50, 60,  7,  1],\n",
       "         [64,  0, 65, 47, 57, 51, 64,  1, 59, 60]]))"
      ]
     },
     "execution_count": 7,
     "metadata": {},
     "output_type": "execute_result"
    }
   ],
   "source": [
    "data = encoder(text)\n",
    "create_batches_data(data, 3,10)"
   ]
  },
  {
   "cell_type": "code",
   "execution_count": null,
   "id": "aa866e39",
   "metadata": {},
   "outputs": [],
   "source": []
  }
 ],
 "metadata": {
  "kernelspec": {
   "display_name": "GPT_env (3.13.5)",
   "language": "python",
   "name": "python3"
  },
  "language_info": {
   "codemirror_mode": {
    "name": "ipython",
    "version": 3
   },
   "file_extension": ".py",
   "mimetype": "text/x-python",
   "name": "python",
   "nbconvert_exporter": "python",
   "pygments_lexer": "ipython3",
   "version": "3.13.5"
  }
 },
 "nbformat": 4,
 "nbformat_minor": 5
}
